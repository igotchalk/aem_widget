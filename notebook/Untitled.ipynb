{
 "cells": [
  {
   "cell_type": "code",
   "execution_count": 3,
   "metadata": {},
   "outputs": [
    {
     "data": {
      "application/vnd.jupyter.widget-view+json": {
       "model_id": "ebc3f74e756b4b0f97819710f8b2d972",
       "version_major": 2,
       "version_minor": 0
      },
      "text/plain": [
       "VBox(children=(interactive(children=(IntSlider(value=4, description='n', max=7, min=1), IntSlider(value=5, des…"
      ]
     },
     "metadata": {},
     "output_type": "display_data"
    }
   ],
   "source": [
    "from ipywidgets import interact\n",
    "import numpy as np\n",
    "import random\n",
    "import nbinteract as nbi\n",
    "\n",
    "# This function generates the x-values\n",
    "def categories(n):\n",
    "    return list('abcdefg')[:n]\n",
    "\n",
    "# This function generates the y-values (heights of bars)\n",
    "# The y response function always takes in the x-values as its\n",
    "# first argument\n",
    "def offset_y(xs, offset):\n",
    "    num_categories = len(xs)\n",
    "    return np.arange(num_categories) + offset\n",
    "\n",
    "# Each argument of the response functions is passed in as a keyword\n",
    "# argument to `nbi.bar` in the same format as `interact`\n",
    "nbi.bar(categories, offset_y, n=(1, 7), offset=(0, 10))\n"
   ]
  },
  {
   "cell_type": "code",
   "execution_count": 7,
   "metadata": {},
   "outputs": [
    {
     "data": {
      "text/plain": [
       "['Figure',\n",
       " 'InteractExporter',\n",
       " '__builtins__',\n",
       " '__cached__',\n",
       " '__doc__',\n",
       " '__file__',\n",
       " '__loader__',\n",
       " '__name__',\n",
       " '__package__',\n",
       " '__path__',\n",
       " '__spec__',\n",
       " 'bar',\n",
       " 'exporters',\n",
       " 'hist',\n",
       " 'line',\n",
       " 'multiple_choice',\n",
       " 'plotting',\n",
       " 'publish',\n",
       " 'questions',\n",
       " 'scatter',\n",
       " 'scatter_drag',\n",
       " 'short_answer',\n",
       " 'util',\n",
       " 'warnings']"
      ]
     },
     "execution_count": 7,
     "metadata": {},
     "output_type": "execute_result"
    }
   ],
   "source": [
    "import nbinteract as nbi\n",
    "dir(nbi)"
   ]
  },
  {
   "cell_type": "code",
   "execution_count": null,
   "metadata": {},
   "outputs": [],
   "source": []
  }
 ],
 "metadata": {
  "kernelspec": {
   "display_name": "Python [conda env:aemwidget_env]",
   "language": "python",
   "name": "conda-env-aemwidget_env-py"
  },
  "language_info": {
   "codemirror_mode": {
    "name": "ipython",
    "version": 3
   },
   "file_extension": ".py",
   "mimetype": "text/x-python",
   "name": "python",
   "nbconvert_exporter": "python",
   "pygments_lexer": "ipython3",
   "version": "3.6.12"
  }
 },
 "nbformat": 4,
 "nbformat_minor": 4
}
